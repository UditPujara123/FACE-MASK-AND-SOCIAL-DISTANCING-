{
 "cells": [
  {
   "cell_type": "code",
   "execution_count": 1,
   "id": "c0f03996",
   "metadata": {},
   "outputs": [],
   "source": [
    "import cv2\n",
    "import numpy as np\n",
    "from scipy.spatial import distance as dist"
   ]
  },
  {
   "cell_type": "code",
   "execution_count": 2,
   "id": "9fca133b",
   "metadata": {},
   "outputs": [],
   "source": [
    "path=r'C:\\\\Users\\\\hp\\\\Downloads\\\\Tensor go assignment .mp4'\n",
    "cap = cv2.VideoCapture(path)"
   ]
  },
  {
   "cell_type": "code",
   "execution_count": 3,
   "id": "30734b25",
   "metadata": {},
   "outputs": [],
   "source": [
    "face_model = cv2.CascadeClassifier(\"C:\\\\Users\\\\hp\\\\Downloads\\\\haar-cascade-files-master\\\\haar-cascade-files-master\\\\haarcascade_frontalface_default.xml\")"
   ]
  },
  {
   "cell_type": "code",
   "execution_count": 4,
   "id": "8f7dc295",
   "metadata": {},
   "outputs": [],
   "source": [
    "status , photo = cap.read()\n",
    "#cv2.imshow('hi' , photo)\n",
    "cv2.waitKey()\n",
    "cv2.destroyAllWindows()"
   ]
  },
  {
   "cell_type": "code",
   "execution_count": null,
   "id": "93f8d03e",
   "metadata": {},
   "outputs": [],
   "source": [
    "while True:\n",
    "    status , photo = cap.read() \n",
    "    face_cor = face_model.detectMultiScale(photo)\n",
    "    l = len(face_cor)\n",
    "    photo = cv2.putText(photo, str(len(face_cor))+\" Face\", (50, 50), cv2.FONT_HERSHEY_SIMPLEX,  \n",
    "                   1, (255, 0, 0) , 2, cv2.LINE_AA) \n",
    "    stack_x = [] \n",
    "    stack_y = []\n",
    "    stack_x_print = [] \n",
    "    stack_y_print = []\n",
    "    global D\n",
    "    \n",
    "    if len(face_cor) == 0:\n",
    "        pass\n",
    "    \n",
    "    else:\n",
    "        for i in range(0,len(face_cor)):\n",
    "            x1 = face_cor[i][0]\n",
    "            y1 = face_cor[i][1]\n",
    "            x2 = face_cor[i][0] + face_cor[i][2]\n",
    "            y2 = face_cor[i][1] + face_cor[i][3]\n",
    "            \n",
    "             \n",
    "            mid_x = int((x1+x2)/2)\n",
    "            mid_y = int((y1+y2)/2)\n",
    "            stack_x.append(mid_x)\n",
    "            stack_y.append(mid_y)\n",
    "            stack_x_print.append(mid_x)\n",
    "            stack_y_print.append(mid_y)\n",
    "            \n",
    "            photo = cv2.circle(photo, (mid_x, mid_y), 3 , [255,0,0] , -1) \n",
    "            photo = cv2.rectangle(photo , (x1, y1) , (x2,y2) , [0,255,0] , 2)\n",
    "        \n",
    "        if len(face_cor) == 2:\n",
    "            D = int(dist.euclidean((stack_x.pop(), stack_y.pop()), (stack_x.pop(), stack_y.pop())))\n",
    "            photo = cv2.line(photo, (stack_x_print.pop(), stack_y_print.pop()), (stack_x_print.pop(), stack_y_print.pop()), [0,0,255], 2)\n",
    "        else:\n",
    "            D = 0\n",
    "        \n",
    "        if D<250 and D!=0:\n",
    "            photo = cv2.putText(photo, \"!!MOVE AWAY!!\", (120, 100), cv2.FONT_HERSHEY_SIMPLEX,2, [0,0,255] , 4)\n",
    "            \n",
    "        photo = cv2.putText(photo, str(D/10) + \" cm\", (300, 50), cv2.FONT_HERSHEY_SIMPLEX,  \n",
    "                   1, (255, 0, 0) , 2, cv2.LINE_AA)\n",
    "        \n",
    "        cv2.imshow('hi' , photo)\n",
    "        if cv2.waitKey(100) == 13:\n",
    "            break\n",
    "            \n",
    "cv2.destroyAllWindows()\n",
    "cap.release()"
   ]
  },
  {
   "cell_type": "code",
   "execution_count": null,
   "id": "c6824df6",
   "metadata": {},
   "outputs": [],
   "source": []
  }
 ],
 "metadata": {
  "kernelspec": {
   "display_name": "Python 3 (ipykernel)",
   "language": "python",
   "name": "python3"
  },
  "language_info": {
   "codemirror_mode": {
    "name": "ipython",
    "version": 3
   },
   "file_extension": ".py",
   "mimetype": "text/x-python",
   "name": "python",
   "nbconvert_exporter": "python",
   "pygments_lexer": "ipython3",
   "version": "3.10.4"
  }
 },
 "nbformat": 4,
 "nbformat_minor": 5
}
